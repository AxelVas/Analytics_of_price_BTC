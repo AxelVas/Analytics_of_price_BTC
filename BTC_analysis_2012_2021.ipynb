{
  "nbformat": 4,
  "nbformat_minor": 0,
  "metadata": {
    "colab": {
      "name": "BTC_analysis_2012-2021.ipynb",
      "provenance": [],
      "collapsed_sections": [],
      "mount_file_id": "1CmFB33PqzoMaG-F2gONV3G4L7rsmO0OT",
      "authorship_tag": "ABX9TyO+SPJQVoNPrf+7nkpzW7AM"
    },
    "kernelspec": {
      "name": "python3",
      "display_name": "Python 3"
    }
  },
  "cells": [
    {
      "cell_type": "code",
      "metadata": {
        "id": "uPjqeKRoXiED"
      },
      "source": [
        "from google.colab import drive\n",
        "drive.mount('/content/drive')"
      ],
      "execution_count": null,
      "outputs": []
    },
    {
      "cell_type": "code",
      "metadata": {
        "id": "KKF1flKPTvv1"
      },
      "source": [
        "import pandas as pd"
      ],
      "execution_count": null,
      "outputs": []
    },
    {
      "cell_type": "code",
      "metadata": {
        "colab": {
          "base_uri": "https://localhost:8080/"
        },
        "id": "KLuzQX18USiS",
        "outputId": "57307006-fa1e-4528-a8da-99d7f9e83831"
      },
      "source": [
        "!ls '/content/drive/My Drive/Colab Notebooks/BTC_Analysis'"
      ],
      "execution_count": null,
      "outputs": [
        {
          "output_type": "stream",
          "text": [
            "bitstampUSD_1-min_data_2012-01-01_to_2020-12-31.csv\n",
            "BTC_analysis_2012-2021.ipynb\n"
          ],
          "name": "stdout"
        }
      ]
    },
    {
      "cell_type": "code",
      "metadata": {
        "id": "kVFP5jxGUlNK"
      },
      "source": [
        "data = pd.read_csv('/content/drive/My Drive/Colab Notebooks/BTC_Analysis/bitstampUSD_1-min_data_2012-01-01_to_2020-12-31.csv')"
      ],
      "execution_count": null,
      "outputs": []
    },
    {
      "cell_type": "code",
      "metadata": {
        "colab": {
          "base_uri": "https://localhost:8080/",
          "height": 191
        },
        "id": "mNsTVmElVBzn",
        "outputId": "6ba91fbc-6c7f-4c7a-f1b3-38c7a7287483"
      },
      "source": [
        "data.head()"
      ],
      "execution_count": null,
      "outputs": [
        {
          "output_type": "execute_result",
          "data": {
            "text/html": [
              "<div>\n",
              "<style scoped>\n",
              "    .dataframe tbody tr th:only-of-type {\n",
              "        vertical-align: middle;\n",
              "    }\n",
              "\n",
              "    .dataframe tbody tr th {\n",
              "        vertical-align: top;\n",
              "    }\n",
              "\n",
              "    .dataframe thead th {\n",
              "        text-align: right;\n",
              "    }\n",
              "</style>\n",
              "<table border=\"1\" class=\"dataframe\">\n",
              "  <thead>\n",
              "    <tr style=\"text-align: right;\">\n",
              "      <th></th>\n",
              "      <th>Timestamp</th>\n",
              "      <th>Open</th>\n",
              "      <th>High</th>\n",
              "      <th>Low</th>\n",
              "      <th>Close</th>\n",
              "      <th>Volume_(BTC)</th>\n",
              "      <th>Volume_(Currency)</th>\n",
              "      <th>Weighted_Price</th>\n",
              "    </tr>\n",
              "  </thead>\n",
              "  <tbody>\n",
              "    <tr>\n",
              "      <th>0</th>\n",
              "      <td>1325317920</td>\n",
              "      <td>4.39</td>\n",
              "      <td>4.39</td>\n",
              "      <td>4.39</td>\n",
              "      <td>4.39</td>\n",
              "      <td>0.455581</td>\n",
              "      <td>2.0</td>\n",
              "      <td>4.39</td>\n",
              "    </tr>\n",
              "    <tr>\n",
              "      <th>1</th>\n",
              "      <td>1325317980</td>\n",
              "      <td>NaN</td>\n",
              "      <td>NaN</td>\n",
              "      <td>NaN</td>\n",
              "      <td>NaN</td>\n",
              "      <td>NaN</td>\n",
              "      <td>NaN</td>\n",
              "      <td>NaN</td>\n",
              "    </tr>\n",
              "    <tr>\n",
              "      <th>2</th>\n",
              "      <td>1325318040</td>\n",
              "      <td>NaN</td>\n",
              "      <td>NaN</td>\n",
              "      <td>NaN</td>\n",
              "      <td>NaN</td>\n",
              "      <td>NaN</td>\n",
              "      <td>NaN</td>\n",
              "      <td>NaN</td>\n",
              "    </tr>\n",
              "    <tr>\n",
              "      <th>3</th>\n",
              "      <td>1325318100</td>\n",
              "      <td>NaN</td>\n",
              "      <td>NaN</td>\n",
              "      <td>NaN</td>\n",
              "      <td>NaN</td>\n",
              "      <td>NaN</td>\n",
              "      <td>NaN</td>\n",
              "      <td>NaN</td>\n",
              "    </tr>\n",
              "    <tr>\n",
              "      <th>4</th>\n",
              "      <td>1325318160</td>\n",
              "      <td>NaN</td>\n",
              "      <td>NaN</td>\n",
              "      <td>NaN</td>\n",
              "      <td>NaN</td>\n",
              "      <td>NaN</td>\n",
              "      <td>NaN</td>\n",
              "      <td>NaN</td>\n",
              "    </tr>\n",
              "  </tbody>\n",
              "</table>\n",
              "</div>"
            ],
            "text/plain": [
              "    Timestamp  Open  High  ...  Volume_(BTC)  Volume_(Currency)  Weighted_Price\n",
              "0  1325317920  4.39  4.39  ...      0.455581                2.0            4.39\n",
              "1  1325317980   NaN   NaN  ...           NaN                NaN             NaN\n",
              "2  1325318040   NaN   NaN  ...           NaN                NaN             NaN\n",
              "3  1325318100   NaN   NaN  ...           NaN                NaN             NaN\n",
              "4  1325318160   NaN   NaN  ...           NaN                NaN             NaN\n",
              "\n",
              "[5 rows x 8 columns]"
            ]
          },
          "metadata": {
            "tags": []
          },
          "execution_count": 3
        }
      ]
    },
    {
      "cell_type": "code",
      "metadata": {
        "colab": {
          "base_uri": "https://localhost:8080/",
          "height": 277
        },
        "id": "wqqACN15VFLJ",
        "outputId": "6ce59f85-53e0-4948-ae10-aa444220da0d"
      },
      "source": [
        "data.describe()"
      ],
      "execution_count": null,
      "outputs": [
        {
          "output_type": "execute_result",
          "data": {
            "text/html": [
              "<div>\n",
              "<style scoped>\n",
              "    .dataframe tbody tr th:only-of-type {\n",
              "        vertical-align: middle;\n",
              "    }\n",
              "\n",
              "    .dataframe tbody tr th {\n",
              "        vertical-align: top;\n",
              "    }\n",
              "\n",
              "    .dataframe thead th {\n",
              "        text-align: right;\n",
              "    }\n",
              "</style>\n",
              "<table border=\"1\" class=\"dataframe\">\n",
              "  <thead>\n",
              "    <tr style=\"text-align: right;\">\n",
              "      <th></th>\n",
              "      <th>Timestamp</th>\n",
              "      <th>Open</th>\n",
              "      <th>High</th>\n",
              "      <th>Low</th>\n",
              "      <th>Close</th>\n",
              "      <th>Volume_(BTC)</th>\n",
              "      <th>Volume_(Currency)</th>\n",
              "      <th>Weighted_Price</th>\n",
              "    </tr>\n",
              "  </thead>\n",
              "  <tbody>\n",
              "    <tr>\n",
              "      <th>count</th>\n",
              "      <td>4.727777e+06</td>\n",
              "      <td>3.484305e+06</td>\n",
              "      <td>3.484305e+06</td>\n",
              "      <td>3.484305e+06</td>\n",
              "      <td>3.484305e+06</td>\n",
              "      <td>3.484305e+06</td>\n",
              "      <td>3.484305e+06</td>\n",
              "      <td>3.484305e+06</td>\n",
              "    </tr>\n",
              "    <tr>\n",
              "      <th>mean</th>\n",
              "      <td>1.467409e+09</td>\n",
              "      <td>4.570658e+03</td>\n",
              "      <td>4.573721e+03</td>\n",
              "      <td>4.567413e+03</td>\n",
              "      <td>4.570624e+03</td>\n",
              "      <td>9.422676e+00</td>\n",
              "      <td>3.315691e+04</td>\n",
              "      <td>4.570625e+03</td>\n",
              "    </tr>\n",
              "    <tr>\n",
              "      <th>std</th>\n",
              "      <td>8.203749e+07</td>\n",
              "      <td>4.775105e+03</td>\n",
              "      <td>4.778620e+03</td>\n",
              "      <td>4.771352e+03</td>\n",
              "      <td>4.775094e+03</td>\n",
              "      <td>3.101255e+01</td>\n",
              "      <td>1.129107e+05</td>\n",
              "      <td>4.775090e+03</td>\n",
              "    </tr>\n",
              "    <tr>\n",
              "      <th>min</th>\n",
              "      <td>1.325318e+09</td>\n",
              "      <td>3.800000e+00</td>\n",
              "      <td>3.800000e+00</td>\n",
              "      <td>1.500000e+00</td>\n",
              "      <td>1.500000e+00</td>\n",
              "      <td>0.000000e+00</td>\n",
              "      <td>0.000000e+00</td>\n",
              "      <td>3.800000e+00</td>\n",
              "    </tr>\n",
              "    <tr>\n",
              "      <th>25%</th>\n",
              "      <td>1.396235e+09</td>\n",
              "      <td>4.321900e+02</td>\n",
              "      <td>4.324300e+02</td>\n",
              "      <td>4.320000e+02</td>\n",
              "      <td>4.322000e+02</td>\n",
              "      <td>3.917811e-01</td>\n",
              "      <td>4.147936e+02</td>\n",
              "      <td>4.321753e+02</td>\n",
              "    </tr>\n",
              "    <tr>\n",
              "      <th>50%</th>\n",
              "      <td>1.467540e+09</td>\n",
              "      <td>3.085010e+03</td>\n",
              "      <td>3.093250e+03</td>\n",
              "      <td>3.078010e+03</td>\n",
              "      <td>3.084410e+03</td>\n",
              "      <td>1.936719e+00</td>\n",
              "      <td>3.305199e+03</td>\n",
              "      <td>3.085478e+03</td>\n",
              "    </tr>\n",
              "    <tr>\n",
              "      <th>75%</th>\n",
              "      <td>1.538456e+09</td>\n",
              "      <td>8.158010e+03</td>\n",
              "      <td>8.162850e+03</td>\n",
              "      <td>8.152790e+03</td>\n",
              "      <td>8.157310e+03</td>\n",
              "      <td>7.299825e+00</td>\n",
              "      <td>2.158297e+04</td>\n",
              "      <td>8.157964e+03</td>\n",
              "    </tr>\n",
              "    <tr>\n",
              "      <th>max</th>\n",
              "      <td>1.609373e+09</td>\n",
              "      <td>2.899738e+04</td>\n",
              "      <td>2.901032e+04</td>\n",
              "      <td>2.896366e+04</td>\n",
              "      <td>2.899738e+04</td>\n",
              "      <td>5.853852e+03</td>\n",
              "      <td>1.044599e+07</td>\n",
              "      <td>2.898589e+04</td>\n",
              "    </tr>\n",
              "  </tbody>\n",
              "</table>\n",
              "</div>"
            ],
            "text/plain": [
              "          Timestamp          Open  ...  Volume_(Currency)  Weighted_Price\n",
              "count  4.727777e+06  3.484305e+06  ...       3.484305e+06    3.484305e+06\n",
              "mean   1.467409e+09  4.570658e+03  ...       3.315691e+04    4.570625e+03\n",
              "std    8.203749e+07  4.775105e+03  ...       1.129107e+05    4.775090e+03\n",
              "min    1.325318e+09  3.800000e+00  ...       0.000000e+00    3.800000e+00\n",
              "25%    1.396235e+09  4.321900e+02  ...       4.147936e+02    4.321753e+02\n",
              "50%    1.467540e+09  3.085010e+03  ...       3.305199e+03    3.085478e+03\n",
              "75%    1.538456e+09  8.158010e+03  ...       2.158297e+04    8.157964e+03\n",
              "max    1.609373e+09  2.899738e+04  ...       1.044599e+07    2.898589e+04\n",
              "\n",
              "[8 rows x 8 columns]"
            ]
          },
          "metadata": {
            "tags": []
          },
          "execution_count": 4
        }
      ]
    },
    {
      "cell_type": "code",
      "metadata": {
        "colab": {
          "base_uri": "https://localhost:8080/"
        },
        "id": "VZ6hyQKTVI7h",
        "outputId": "fd3533ee-8841-4e19-f56b-f28c95b23872"
      },
      "source": [
        "data.shape"
      ],
      "execution_count": null,
      "outputs": [
        {
          "output_type": "execute_result",
          "data": {
            "text/plain": [
              "(4727777, 8)"
            ]
          },
          "metadata": {
            "tags": []
          },
          "execution_count": 10
        }
      ]
    },
    {
      "cell_type": "code",
      "metadata": {
        "id": "mkB6xRUiYwwN"
      },
      "source": [
        "from datetime import datetime"
      ],
      "execution_count": null,
      "outputs": []
    },
    {
      "cell_type": "code",
      "metadata": {
        "id": "OsFUSMTxoR8f"
      },
      "source": [
        "data['Datetime']=pd.to_datetime(data['Timestamp'],unit='s')"
      ],
      "execution_count": null,
      "outputs": []
    },
    {
      "cell_type": "code",
      "metadata": {
        "colab": {
          "base_uri": "https://localhost:8080/",
          "height": 191
        },
        "id": "G6eXFnP8pAFA",
        "outputId": "f956f527-b463-4ee0-e73c-80121130b0f9"
      },
      "source": [
        "data.head()"
      ],
      "execution_count": null,
      "outputs": [
        {
          "output_type": "execute_result",
          "data": {
            "text/html": [
              "<div>\n",
              "<style scoped>\n",
              "    .dataframe tbody tr th:only-of-type {\n",
              "        vertical-align: middle;\n",
              "    }\n",
              "\n",
              "    .dataframe tbody tr th {\n",
              "        vertical-align: top;\n",
              "    }\n",
              "\n",
              "    .dataframe thead th {\n",
              "        text-align: right;\n",
              "    }\n",
              "</style>\n",
              "<table border=\"1\" class=\"dataframe\">\n",
              "  <thead>\n",
              "    <tr style=\"text-align: right;\">\n",
              "      <th></th>\n",
              "      <th>Timestamp</th>\n",
              "      <th>Open</th>\n",
              "      <th>High</th>\n",
              "      <th>Low</th>\n",
              "      <th>Close</th>\n",
              "      <th>Volume_(BTC)</th>\n",
              "      <th>Volume_(Currency)</th>\n",
              "      <th>Weighted_Price</th>\n",
              "      <th>Datetime</th>\n",
              "    </tr>\n",
              "  </thead>\n",
              "  <tbody>\n",
              "    <tr>\n",
              "      <th>0</th>\n",
              "      <td>1325317920</td>\n",
              "      <td>4.39</td>\n",
              "      <td>4.39</td>\n",
              "      <td>4.39</td>\n",
              "      <td>4.39</td>\n",
              "      <td>0.455581</td>\n",
              "      <td>2.0</td>\n",
              "      <td>4.39</td>\n",
              "      <td>2011-12-31 07:52:00</td>\n",
              "    </tr>\n",
              "    <tr>\n",
              "      <th>1</th>\n",
              "      <td>1325317980</td>\n",
              "      <td>NaN</td>\n",
              "      <td>NaN</td>\n",
              "      <td>NaN</td>\n",
              "      <td>NaN</td>\n",
              "      <td>NaN</td>\n",
              "      <td>NaN</td>\n",
              "      <td>NaN</td>\n",
              "      <td>2011-12-31 07:53:00</td>\n",
              "    </tr>\n",
              "    <tr>\n",
              "      <th>2</th>\n",
              "      <td>1325318040</td>\n",
              "      <td>NaN</td>\n",
              "      <td>NaN</td>\n",
              "      <td>NaN</td>\n",
              "      <td>NaN</td>\n",
              "      <td>NaN</td>\n",
              "      <td>NaN</td>\n",
              "      <td>NaN</td>\n",
              "      <td>2011-12-31 07:54:00</td>\n",
              "    </tr>\n",
              "    <tr>\n",
              "      <th>3</th>\n",
              "      <td>1325318100</td>\n",
              "      <td>NaN</td>\n",
              "      <td>NaN</td>\n",
              "      <td>NaN</td>\n",
              "      <td>NaN</td>\n",
              "      <td>NaN</td>\n",
              "      <td>NaN</td>\n",
              "      <td>NaN</td>\n",
              "      <td>2011-12-31 07:55:00</td>\n",
              "    </tr>\n",
              "    <tr>\n",
              "      <th>4</th>\n",
              "      <td>1325318160</td>\n",
              "      <td>NaN</td>\n",
              "      <td>NaN</td>\n",
              "      <td>NaN</td>\n",
              "      <td>NaN</td>\n",
              "      <td>NaN</td>\n",
              "      <td>NaN</td>\n",
              "      <td>NaN</td>\n",
              "      <td>2011-12-31 07:56:00</td>\n",
              "    </tr>\n",
              "  </tbody>\n",
              "</table>\n",
              "</div>"
            ],
            "text/plain": [
              "    Timestamp  Open  ...  Weighted_Price            Datetime\n",
              "0  1325317920  4.39  ...            4.39 2011-12-31 07:52:00\n",
              "1  1325317980   NaN  ...             NaN 2011-12-31 07:53:00\n",
              "2  1325318040   NaN  ...             NaN 2011-12-31 07:54:00\n",
              "3  1325318100   NaN  ...             NaN 2011-12-31 07:55:00\n",
              "4  1325318160   NaN  ...             NaN 2011-12-31 07:56:00\n",
              "\n",
              "[5 rows x 9 columns]"
            ]
          },
          "metadata": {
            "tags": []
          },
          "execution_count": 7
        }
      ]
    },
    {
      "cell_type": "code",
      "metadata": {
        "id": "soBy0G9yqqas"
      },
      "source": [
        "data['Year']=pd.DatetimeIndex(data['Datetime']).year"
      ],
      "execution_count": null,
      "outputs": []
    },
    {
      "cell_type": "code",
      "metadata": {
        "id": "i3baxK3usApr"
      },
      "source": [
        "data['Month']=pd.DatetimeIndex(data['Datetime']).month"
      ],
      "execution_count": null,
      "outputs": []
    },
    {
      "cell_type": "code",
      "metadata": {
        "id": "WQQ-nkzNIYKM"
      },
      "source": [
        "data['Day']=pd.DatetimeIndex(data['Datetime']).day"
      ],
      "execution_count": null,
      "outputs": []
    },
    {
      "cell_type": "code",
      "metadata": {
        "id": "4nVEJ98bIxIr"
      },
      "source": [
        "data['Hour']=pd.DatetimeIndex(data['Datetime']).hour"
      ],
      "execution_count": null,
      "outputs": []
    },
    {
      "cell_type": "code",
      "metadata": {
        "id": "Acl7Z4qMI9-K"
      },
      "source": [
        "data['Mins']=pd.DatetimeIndex(data['Datetime']).minute"
      ],
      "execution_count": null,
      "outputs": []
    },
    {
      "cell_type": "code",
      "metadata": {
        "id": "ljQD36TbVQXi"
      },
      "source": [
        "data.dropna(axis=0, inplace=True) # попробовать метод ffil"
      ],
      "execution_count": null,
      "outputs": []
    },
    {
      "cell_type": "code",
      "metadata": {
        "colab": {
          "base_uri": "https://localhost:8080/",
          "height": 191
        },
        "id": "9YNuvlxYVq1y",
        "outputId": "b3c73ecd-0580-4c6f-fefb-ce7780990783"
      },
      "source": [
        "data.head()"
      ],
      "execution_count": null,
      "outputs": [
        {
          "output_type": "execute_result",
          "data": {
            "text/html": [
              "<div>\n",
              "<style scoped>\n",
              "    .dataframe tbody tr th:only-of-type {\n",
              "        vertical-align: middle;\n",
              "    }\n",
              "\n",
              "    .dataframe tbody tr th {\n",
              "        vertical-align: top;\n",
              "    }\n",
              "\n",
              "    .dataframe thead th {\n",
              "        text-align: right;\n",
              "    }\n",
              "</style>\n",
              "<table border=\"1\" class=\"dataframe\">\n",
              "  <thead>\n",
              "    <tr style=\"text-align: right;\">\n",
              "      <th></th>\n",
              "      <th>Timestamp</th>\n",
              "      <th>Open</th>\n",
              "      <th>High</th>\n",
              "      <th>Low</th>\n",
              "      <th>Close</th>\n",
              "      <th>Volume_(BTC)</th>\n",
              "      <th>Volume_(Currency)</th>\n",
              "      <th>Weighted_Price</th>\n",
              "      <th>Datetime</th>\n",
              "      <th>Year</th>\n",
              "      <th>Month</th>\n",
              "      <th>Day</th>\n",
              "      <th>Hour</th>\n",
              "      <th>Mins</th>\n",
              "    </tr>\n",
              "  </thead>\n",
              "  <tbody>\n",
              "    <tr>\n",
              "      <th>0</th>\n",
              "      <td>1325317920</td>\n",
              "      <td>4.39</td>\n",
              "      <td>4.39</td>\n",
              "      <td>4.39</td>\n",
              "      <td>4.39</td>\n",
              "      <td>0.455581</td>\n",
              "      <td>2.000000</td>\n",
              "      <td>4.390000</td>\n",
              "      <td>2011-12-31 07:52:00</td>\n",
              "      <td>2011</td>\n",
              "      <td>12</td>\n",
              "      <td>31</td>\n",
              "      <td>7</td>\n",
              "      <td>52</td>\n",
              "    </tr>\n",
              "    <tr>\n",
              "      <th>478</th>\n",
              "      <td>1325346600</td>\n",
              "      <td>4.39</td>\n",
              "      <td>4.39</td>\n",
              "      <td>4.39</td>\n",
              "      <td>4.39</td>\n",
              "      <td>48.000000</td>\n",
              "      <td>210.720000</td>\n",
              "      <td>4.390000</td>\n",
              "      <td>2011-12-31 15:50:00</td>\n",
              "      <td>2011</td>\n",
              "      <td>12</td>\n",
              "      <td>31</td>\n",
              "      <td>15</td>\n",
              "      <td>50</td>\n",
              "    </tr>\n",
              "    <tr>\n",
              "      <th>547</th>\n",
              "      <td>1325350740</td>\n",
              "      <td>4.50</td>\n",
              "      <td>4.57</td>\n",
              "      <td>4.50</td>\n",
              "      <td>4.57</td>\n",
              "      <td>37.862297</td>\n",
              "      <td>171.380338</td>\n",
              "      <td>4.526411</td>\n",
              "      <td>2011-12-31 16:59:00</td>\n",
              "      <td>2011</td>\n",
              "      <td>12</td>\n",
              "      <td>31</td>\n",
              "      <td>16</td>\n",
              "      <td>59</td>\n",
              "    </tr>\n",
              "    <tr>\n",
              "      <th>548</th>\n",
              "      <td>1325350800</td>\n",
              "      <td>4.58</td>\n",
              "      <td>4.58</td>\n",
              "      <td>4.58</td>\n",
              "      <td>4.58</td>\n",
              "      <td>9.000000</td>\n",
              "      <td>41.220000</td>\n",
              "      <td>4.580000</td>\n",
              "      <td>2011-12-31 17:00:00</td>\n",
              "      <td>2011</td>\n",
              "      <td>12</td>\n",
              "      <td>31</td>\n",
              "      <td>17</td>\n",
              "      <td>0</td>\n",
              "    </tr>\n",
              "    <tr>\n",
              "      <th>1224</th>\n",
              "      <td>1325391360</td>\n",
              "      <td>4.58</td>\n",
              "      <td>4.58</td>\n",
              "      <td>4.58</td>\n",
              "      <td>4.58</td>\n",
              "      <td>1.502000</td>\n",
              "      <td>6.879160</td>\n",
              "      <td>4.580000</td>\n",
              "      <td>2012-01-01 04:16:00</td>\n",
              "      <td>2012</td>\n",
              "      <td>1</td>\n",
              "      <td>1</td>\n",
              "      <td>4</td>\n",
              "      <td>16</td>\n",
              "    </tr>\n",
              "  </tbody>\n",
              "</table>\n",
              "</div>"
            ],
            "text/plain": [
              "       Timestamp  Open  High   Low  Close  ...  Year  Month  Day Hour  Mins\n",
              "0     1325317920  4.39  4.39  4.39   4.39  ...  2011     12   31    7    52\n",
              "478   1325346600  4.39  4.39  4.39   4.39  ...  2011     12   31   15    50\n",
              "547   1325350740  4.50  4.57  4.50   4.57  ...  2011     12   31   16    59\n",
              "548   1325350800  4.58  4.58  4.58   4.58  ...  2011     12   31   17     0\n",
              "1224  1325391360  4.58  4.58  4.58   4.58  ...  2012      1    1    4    16\n",
              "\n",
              "[5 rows x 14 columns]"
            ]
          },
          "metadata": {
            "tags": []
          },
          "execution_count": 42
        }
      ]
    },
    {
      "cell_type": "code",
      "metadata": {
        "id": "zSwMye3oHoay"
      },
      "source": [
        "import matplotlib.pyplot as plt"
      ],
      "execution_count": null,
      "outputs": []
    },
    {
      "cell_type": "code",
      "metadata": {
        "colab": {
          "base_uri": "https://localhost:8080/",
          "height": 530
        },
        "id": "NL1rWIj-FPQi",
        "outputId": "f0903be1-919b-40c5-beb7-168f0fa379b7"
      },
      "source": [
        "data.groupby(['Year','Month'])['Volume_(BTC)','Close'].mean().plot(figsize=(15,8), grid=True)\n",
        "plt.show()"
      ],
      "execution_count": null,
      "outputs": [
        {
          "output_type": "stream",
          "text": [
            "/usr/local/lib/python3.7/dist-packages/ipykernel_launcher.py:1: FutureWarning: Indexing with multiple keys (implicitly converted to a tuple of keys) will be deprecated, use a list instead.\n",
            "  \"\"\"Entry point for launching an IPython kernel.\n"
          ],
          "name": "stderr"
        },
        {
          "output_type": "display_data",
          "data": {
            "image/png": "[encoded data removed]",
            "text/plain": [
              "<Figure size 1080x576 with 1 Axes>"
            ]
          },
          "metadata": {
            "tags": [],
            "needs_background": "light"
          }
        }
      ]
    },
    {
      "cell_type": "code",
      "metadata": {
        "id": "XAC99HM5VuKy"
      },
      "source": [
        ""
      ],
      "execution_count": null,
      "outputs": []
    },
    {
      "cell_type": "code",
      "metadata": {
        "id": "TCEjvWHTWIqQ"
      },
      "source": [
        "t=data[data['Year']==2019].copy()"
      ],
      "execution_count": null,
      "outputs": []
    },
    {
      "cell_type": "code",
      "metadata": {
        "id": "DHJkY_S2WMUi"
      },
      "source": [
        "t.index = t.Month"
      ],
      "execution_count": null,
      "outputs": []
    },
    {
      "cell_type": "code",
      "metadata": {
        "id": "hxxsWq6YWhnS"
      },
      "source": [
        "#t=t.drop(columns=['Year','Timestamp'], axis=1)"
      ],
      "execution_count": null,
      "outputs": []
    },
    {
      "cell_type": "code",
      "metadata": {
        "colab": {
          "base_uri": "https://localhost:8080/",
          "height": 235
        },
        "id": "GeZHrRwqs53r",
        "outputId": "72880b37-fb19-402f-a4b2-da99b260a7eb"
      },
      "source": [
        "t.head()"
      ],
      "execution_count": null,
      "outputs": [
        {
          "output_type": "execute_result",
          "data": {
            "text/html": [
              "<div>\n",
              "<style scoped>\n",
              "    .dataframe tbody tr th:only-of-type {\n",
              "        vertical-align: middle;\n",
              "    }\n",
              "\n",
              "    .dataframe tbody tr th {\n",
              "        vertical-align: top;\n",
              "    }\n",
              "\n",
              "    .dataframe thead th {\n",
              "        text-align: right;\n",
              "    }\n",
              "</style>\n",
              "<table border=\"1\" class=\"dataframe\">\n",
              "  <thead>\n",
              "    <tr style=\"text-align: right;\">\n",
              "      <th></th>\n",
              "      <th>Timestamp</th>\n",
              "      <th>Open</th>\n",
              "      <th>High</th>\n",
              "      <th>Low</th>\n",
              "      <th>Close</th>\n",
              "      <th>Volume_(BTC)</th>\n",
              "      <th>Volume_(Currency)</th>\n",
              "      <th>Weighted_Price</th>\n",
              "      <th>Datetime</th>\n",
              "      <th>Year</th>\n",
              "      <th>Month</th>\n",
              "    </tr>\n",
              "    <tr>\n",
              "      <th>Month</th>\n",
              "      <th></th>\n",
              "      <th></th>\n",
              "      <th></th>\n",
              "      <th></th>\n",
              "      <th></th>\n",
              "      <th></th>\n",
              "      <th></th>\n",
              "      <th></th>\n",
              "      <th></th>\n",
              "      <th></th>\n",
              "      <th></th>\n",
              "    </tr>\n",
              "  </thead>\n",
              "  <tbody>\n",
              "    <tr>\n",
              "      <th>1</th>\n",
              "      <td>1546300800</td>\n",
              "      <td>3693.85</td>\n",
              "      <td>3698.79</td>\n",
              "      <td>3693.85</td>\n",
              "      <td>3698.00</td>\n",
              "      <td>5.491289</td>\n",
              "      <td>20301.156505</td>\n",
              "      <td>3696.974936</td>\n",
              "      <td>2019-01-01 00:00:00</td>\n",
              "      <td>2019</td>\n",
              "      <td>1</td>\n",
              "    </tr>\n",
              "    <tr>\n",
              "      <th>1</th>\n",
              "      <td>1546300860</td>\n",
              "      <td>3694.72</td>\n",
              "      <td>3694.72</td>\n",
              "      <td>3690.65</td>\n",
              "      <td>3690.65</td>\n",
              "      <td>9.500151</td>\n",
              "      <td>35080.265871</td>\n",
              "      <td>3692.600865</td>\n",
              "      <td>2019-01-01 00:01:00</td>\n",
              "      <td>2019</td>\n",
              "      <td>1</td>\n",
              "    </tr>\n",
              "    <tr>\n",
              "      <th>1</th>\n",
              "      <td>1546300920</td>\n",
              "      <td>3689.73</td>\n",
              "      <td>3689.73</td>\n",
              "      <td>3686.62</td>\n",
              "      <td>3686.62</td>\n",
              "      <td>0.965966</td>\n",
              "      <td>3562.371230</td>\n",
              "      <td>3687.884698</td>\n",
              "      <td>2019-01-01 00:02:00</td>\n",
              "      <td>2019</td>\n",
              "      <td>1</td>\n",
              "    </tr>\n",
              "    <tr>\n",
              "      <th>1</th>\n",
              "      <td>1546300980</td>\n",
              "      <td>3692.85</td>\n",
              "      <td>3692.85</td>\n",
              "      <td>3688.32</td>\n",
              "      <td>3692.35</td>\n",
              "      <td>0.296662</td>\n",
              "      <td>1095.220713</td>\n",
              "      <td>3691.813285</td>\n",
              "      <td>2019-01-01 00:03:00</td>\n",
              "      <td>2019</td>\n",
              "      <td>1</td>\n",
              "    </tr>\n",
              "    <tr>\n",
              "      <th>1</th>\n",
              "      <td>1546301040</td>\n",
              "      <td>3692.35</td>\n",
              "      <td>3692.35</td>\n",
              "      <td>3690.34</td>\n",
              "      <td>3690.34</td>\n",
              "      <td>0.111622</td>\n",
              "      <td>412.065433</td>\n",
              "      <td>3691.614849</td>\n",
              "      <td>2019-01-01 00:04:00</td>\n",
              "      <td>2019</td>\n",
              "      <td>1</td>\n",
              "    </tr>\n",
              "  </tbody>\n",
              "</table>\n",
              "</div>"
            ],
            "text/plain": [
              "        Timestamp     Open     High  ...            Datetime  Year  Month\n",
              "Month                                ...                                 \n",
              "1      1546300800  3693.85  3698.79  ... 2019-01-01 00:00:00  2019      1\n",
              "1      1546300860  3694.72  3694.72  ... 2019-01-01 00:01:00  2019      1\n",
              "1      1546300920  3689.73  3689.73  ... 2019-01-01 00:02:00  2019      1\n",
              "1      1546300980  3692.85  3692.85  ... 2019-01-01 00:03:00  2019      1\n",
              "1      1546301040  3692.35  3692.35  ... 2019-01-01 00:04:00  2019      1\n",
              "\n",
              "[5 rows x 11 columns]"
            ]
          },
          "metadata": {
            "tags": []
          },
          "execution_count": 22
        }
      ]
    },
    {
      "cell_type": "code",
      "metadata": {
        "colab": {
          "base_uri": "https://localhost:8080/"
        },
        "id": "vp3syV6fvmlN",
        "outputId": "3baeb595-faa0-4fa5-d4d1-8ad710155194"
      },
      "source": [
        "t.columns"
      ],
      "execution_count": null,
      "outputs": [
        {
          "output_type": "execute_result",
          "data": {
            "text/plain": [
              "Index(['Timestamp', 'Open', 'High', 'Low', 'Close', 'Volume_(BTC)',\n",
              "       'Volume_(Currency)', 'Weighted_Price', 'Datetime', 'Year', 'Month'],\n",
              "      dtype='object')"
            ]
          },
          "metadata": {
            "tags": []
          },
          "execution_count": 23
        }
      ]
    },
    {
      "cell_type": "code",
      "metadata": {
        "id": "qY9z34FlxISu"
      },
      "source": [
        "col=['Volume_(Currency)',\n",
        "       'Weighted_Price','Month']"
      ],
      "execution_count": null,
      "outputs": []
    },
    {
      "cell_type": "code",
      "metadata": {
        "colab": {
          "base_uri": "https://localhost:8080/",
          "height": 345
        },
        "id": "2yQX5g17W5LC",
        "outputId": "baaa1394-78b0-458c-d933-ebff23217d00"
      },
      "source": [
        "t[col].plot(figsize=(10,5))\n",
        "plt.show()"
      ],
      "execution_count": null,
      "outputs": [
        {
          "output_type": "display_data",
          "data": {
            "image/png": "[encoded data removed]",
            "text/plain": [
              "<Figure size 720x360 with 1 Axes>"
            ]
          },
          "metadata": {
            "tags": [],
            "needs_background": "light"
          }
        }
      ]
    },
    {
      "cell_type": "code",
      "metadata": {
        "id": "4tH3k_rOXFdy"
      },
      "source": [
        ""
      ],
      "execution_count": null,
      "outputs": []
    }
  ]
}